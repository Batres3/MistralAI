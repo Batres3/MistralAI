{
 "cells": [
  {
   "cell_type": "code",
   "execution_count": 1,
   "metadata": {},
   "outputs": [],
   "source": [
    "import pandas as pd"
   ]
  },
  {
   "cell_type": "code",
   "execution_count": 7,
   "metadata": {},
   "outputs": [],
   "source": [
    "FOLDER = \"data/\"\n",
    "EXTENSION = \".tiff\""
   ]
  },
  {
   "cell_type": "code",
   "execution_count": 2,
   "metadata": {},
   "outputs": [],
   "source": [
    "ids = pd.read_excel(\"Mistral Nov23.xlsx\", usecols=\"B:M\", skiprows=9, sheet_name=\"Sample Radiohead R10\")"
   ]
  },
  {
   "cell_type": "code",
   "execution_count": 3,
   "metadata": {},
   "outputs": [],
   "source": [
    "def find_pairs(df) -> list[tuple]:\n",
    "    pairs = []\n",
    "    n = len(df)\n",
    "    for i in range(n):\n",
    "        if i+1 == n:\n",
    "            continue\n",
    "        row = df.iloc[i, :]\n",
    "        row_next = df.iloc[i + 1, :]\n",
    "        if row[\"Polarization\"] * row_next[\"Polarization\"] < 0:\n",
    "            pairs.append((row[\"File name\"], row_next[\"File name\"]))\n",
    "    return pairs\n",
    "\n",
    "def validate(pairs: list[tuple]) -> bool:\n",
    "    for pair in pairs:\n",
    "        if not \"neg\" in pair[0] and \"pos\" in pair[1] or not \"pos\" in pair[0] and \"neg\" in pair[1]:\n",
    "            return False\n",
    "    return True"
   ]
  },
  {
   "cell_type": "code",
   "execution_count": 4,
   "metadata": {},
   "outputs": [],
   "source": [
    "ids.fillna(0, inplace=True)\n",
    "files = ids[ids[\"File name\"] != 0]"
   ]
  },
  {
   "cell_type": "code",
   "execution_count": 5,
   "metadata": {},
   "outputs": [
    {
     "data": {
      "text/plain": [
       "True"
      ]
     },
     "execution_count": 5,
     "metadata": {},
     "output_type": "execute_result"
    }
   ],
   "source": [
    "pairs = find_pairs(ids)\n",
    "validate(pairs)"
   ]
  },
  {
   "cell_type": "code",
   "execution_count": 8,
   "metadata": {},
   "outputs": [],
   "source": [
    "with open(\"pairs.txt\", \"w\") as file:\n",
    "    file.writelines([FOLDER + a + EXTENSION + \", \" + FOLDER + b + EXTENSION + \"\\n\" for a, b in pairs])"
   ]
  }
 ],
 "metadata": {
  "kernelspec": {
   "display_name": "batres",
   "language": "python",
   "name": "batres"
  },
  "language_info": {
   "codemirror_mode": {
    "name": "ipython",
    "version": 3
   },
   "file_extension": ".py",
   "mimetype": "text/x-python",
   "name": "python",
   "nbconvert_exporter": "python",
   "pygments_lexer": "ipython3",
   "version": "3.11.7"
  }
 },
 "nbformat": 4,
 "nbformat_minor": 2
}
